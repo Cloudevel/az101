{
 "cells": [
  {
   "cell_type": "markdown",
   "metadata": {},
   "source": [
    "# Servicios de bases de datos."
   ]
  },
  {
   "cell_type": "markdown",
   "metadata": {},
   "source": [
    "https://docs.microsoft.com/es-es/azure/?product=databases"
   ]
  },
  {
   "cell_type": "markdown",
   "metadata": {},
   "source": [
    "## Bases de datos relacionales."
   ]
  },
  {
   "cell_type": "markdown",
   "metadata": {},
   "source": [
    "* [*Azure SQL Database*](https://docs.microsoft.com/es-ES/azure/azure-sql/database/index).\n",
    "* [*Azure SQL*](https://docs.microsoft.com/es-ES/azure/azure-sql/index).\n",
    "* [*Azure SQL Edge*](https://docs.microsoft.com/es-es/azure/azure-sql-edge/).\n",
    "* [*SQL Server* en máquinas virtuales](https://docs.microsoft.com/es-ES/azure/azure-sql/virtual-machines/windows/sql-server-on-azure-vm-iaas-what-is-overview?toc=%2fazure%2fvirtual-machines%2fwindows%2ftoc.json).\n",
    "* [Instancia administrada de *Azure SQL*](https://docs.microsoft.com/es-ES/azure/azure-sql/managed-instance/index).\n",
    "* [*Azure Database for PostgreSQL*](https://docs.microsoft.com/es-es/azure/postgresql/).\n",
    "* [*Azure Database for MySQL*](https://docs.microsoft.com/es-es/azure/mysql/).\n",
    "* [*Azure Database for MariaDB*](https://docs.microsoft.com/es-es/azure/mariadb/)."
   ]
  },
  {
   "cell_type": "markdown",
   "metadata": {},
   "source": [
    "## Bases de datos no relacionales."
   ]
  },
  {
   "cell_type": "markdown",
   "metadata": {},
   "source": [
    "* [*Azure Cosmos DB*](https://docs.microsoft.com/es-es/azure/cosmos-db/).\n",
    "* [*Azure Cache for Redis*](https://docs.microsoft.com/es-es/azure/azure-cache-for-redis/).\n",
    "* [*Azure Managed Instance for Apache Cassandra](https://docs.microsoft.com/es-es/azure/managed-instance-apache-cassandra/). \n",
    "* [*Azure Cosmos DB*](https://docs.microsoft.com/es-es/azure/cosmos-db/).\n",
    "* [*Table Storage*](https://docs.microsoft.com/es-es/azure/storage/tables/table-storage-overview)."
   ]
  },
  {
   "cell_type": "markdown",
   "metadata": {},
   "source": [
    "<p style=\"text-align: center\"><a rel=\"license\" href=\"http://creativecommons.org/licenses/by/4.0/\"><img alt=\"Licencia Creative Commons\" style=\"border-width:0\" src=\"https://i.creativecommons.org/l/by/4.0/80x15.png\" /></a><br />Esta obra está bajo una <a rel=\"license\" href=\"http://creativecommons.org/licenses/by/4.0/\">Licencia Creative Commons Atribución 4.0 Internacional</a>.</p>\n",
    "<p style=\"text-align: center\">&copy; José Luis Chiquete Valdivieso. 2022.</p>"
   ]
  }
 ],
 "metadata": {
  "kernelspec": {
   "display_name": "Python 3 (ipykernel)",
   "language": "python",
   "name": "python3"
  },
  "language_info": {
   "codemirror_mode": {
    "name": "ipython",
    "version": 3
   },
   "file_extension": ".py",
   "mimetype": "text/x-python",
   "name": "python",
   "nbconvert_exporter": "python",
   "pygments_lexer": "ipython3",
   "version": "3.8.8"
  }
 },
 "nbformat": 4,
 "nbformat_minor": 2
}
