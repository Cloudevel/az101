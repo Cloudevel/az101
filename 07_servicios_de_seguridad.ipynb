{
 "cells": [
  {
   "cell_type": "markdown",
   "metadata": {},
   "source": [
    "# Sevicios de seguridad."
   ]
  },
  {
   "cell_type": "markdown",
   "metadata": {},
   "source": [
    "https://docs.microsoft.com/es-es/azure/?product=security"
   ]
  },
  {
   "cell_type": "markdown",
   "metadata": {},
   "source": [
    "* [*Azure Active Directory*](https://docs.microsoft.com/es-es/azure/active-directory/fundamentals/active-directory-whatis)\n",
    "* [*Application Gateway*](https://docs.microsoft.com/es-es/azure/application-gateway/overview)\n",
    "* [*Azure Dedicated HSM*](https://docs.microsoft.com/es-es/azure/dedicated-hsm/overview)\n",
    "* [*Azure Information Protection*](https://docs.microsoft.com/es-ES/azure/information-protection/what-is-information-protection)\n",
    "* [*Key Vault*](https://docs.microsoft.com/es-es/azure/key-vault/general/overview)\n",
    "* [*Microsoft Sentinel*](https://docs.microsoft.com/es-es/azure/sentinel/overview)\n",
    "* [*Microsoft Defender for Cloud*](https://docs.microsoft.com/es-es/azure/defender-for-cloud/defender-for-cloud-introduction)"
   ]
  },
  {
   "cell_type": "markdown",
   "metadata": {},
   "source": [
    "<p style=\"text-align: center\"><a rel=\"license\" href=\"http://creativecommons.org/licenses/by/4.0/\"><img alt=\"Licencia Creative Commons\" style=\"border-width:0\" src=\"https://i.creativecommons.org/l/by/4.0/80x15.png\" /></a><br />Esta obra está bajo una <a rel=\"license\" href=\"http://creativecommons.org/licenses/by/4.0/\">Licencia Creative Commons Atribución 4.0 Internacional</a>.</p>\n",
    "<p style=\"text-align: center\">&copy; José Luis Chiquete Valdivieso. 2022.</p>"
   ]
  }
 ],
 "metadata": {
  "kernelspec": {
   "display_name": "Python 3 (ipykernel)",
   "language": "python",
   "name": "python3"
  },
  "language_info": {
   "codemirror_mode": {
    "name": "ipython",
    "version": 3
   },
   "file_extension": ".py",
   "mimetype": "text/x-python",
   "name": "python",
   "nbconvert_exporter": "python",
   "pygments_lexer": "ipython3",
   "version": "3.8.8"
  }
 },
 "nbformat": 4,
 "nbformat_minor": 2
}
