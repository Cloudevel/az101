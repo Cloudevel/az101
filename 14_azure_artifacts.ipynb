{
 "cells": [
  {
   "cell_type": "markdown",
   "id": "51261dbb",
   "metadata": {},
   "source": [
    "# *Azure Artifacts*."
   ]
  },
  {
   "cell_type": "markdown",
   "id": "8343621b",
   "metadata": {},
   "source": [
    "Azure Artifacts permite a los desarrolladores compartir su código de forma eficaz y administrar todos sus paquetes desde un solo lugar. Con Azure Artifacts, los desarrolladores pueden publicar paquetes en sus fuentes y compartirlos en el mismo equipo, entre organizaciones e incluso públicamente. Los desarrolladores también pueden consumir paquetes de diferentes fuentes y registros públicos, como NuGet.org o npmjs.com. Azure Artifacts admite varios tipos de paquetes, como NuGet, npm, Python, Maven y Paquetes universales."
   ]
  },
  {
   "cell_type": "markdown",
   "id": "01540b88",
   "metadata": {},
   "source": [
    "Con Azure Artifacts, puede publicar y consumir diferentes tipos de paquetes. Seleccione el tipo de paquete para empezar:\n",
    "\n",
    "* NuGet\n",
    "* npm\n",
    "* Maven\n",
    "* Python\n",
    "* Universal Packages\n",
    "\n",
    "\n",
    "https://docs.microsoft.com/es-es/azure/devops/artifacts/start-using-azure-artifacts"
   ]
  },
  {
   "cell_type": "markdown",
   "id": "7066f5bd",
   "metadata": {},
   "source": [
    "## Artefactos."
   ]
  },
  {
   "cell_type": "markdown",
   "id": "587e8cff",
   "metadata": {},
   "source": [
    "https://docs.microsoft.com/es-es/azure/devops/pipelines/artifacts/artifacts-overview"
   ]
  },
  {
   "cell_type": "markdown",
   "id": "c2756a2f",
   "metadata": {},
   "source": [
    "<p style=\"text-align: center\"><a rel=\"license\" href=\"http://creativecommons.org/licenses/by/4.0/\"><img alt=\"Licencia Creative Commons\" style=\"border-width:0\" src=\"https://i.creativecommons.org/l/by/4.0/80x15.png\" /></a><br />Esta obra está bajo una <a rel=\"license\" href=\"http://creativecommons.org/licenses/by/4.0/\">Licencia Creative Commons Atribución 4.0 Internacional</a>.</p>\n",
    "<p style=\"text-align: center\">&copy; José Luis Chiquete Valdivieso. 2022.</p>"
   ]
  }
 ],
 "metadata": {
  "kernelspec": {
   "display_name": "Python 3 (ipykernel)",
   "language": "python",
   "name": "python3"
  },
  "language_info": {
   "codemirror_mode": {
    "name": "ipython",
    "version": 3
   },
   "file_extension": ".py",
   "mimetype": "text/x-python",
   "name": "python",
   "nbconvert_exporter": "python",
   "pygments_lexer": "ipython3",
   "version": "3.9.12"
  }
 },
 "nbformat": 4,
 "nbformat_minor": 5
}
