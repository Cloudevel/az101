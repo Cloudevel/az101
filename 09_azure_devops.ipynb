{
 "cells": [
  {
   "cell_type": "markdown",
   "metadata": {},
   "source": [
    "# Azure DevOps."
   ]
  },
  {
   "cell_type": "markdown",
   "metadata": {},
   "source": [
    "https://docs.microsoft.com/es-es/azure/?product=devops"
   ]
  },
  {
   "cell_type": "markdown",
   "metadata": {},
   "source": [
    "*Azure DevOps* proporciona servicios para equipos de desarrollo que permiten que los equipos:\n",
    "\n",
    "* Planeen el trabajo.\n",
    "* Colaboren en el desarrollo de código.\n",
    "* Compilen e implementen aplicaciones.\n",
    "\n",
    "Azure DevOps admite una cultura colaborativa y un conjunto de procesos que reúnen a desarrolladores, administradores de proyectos y colaboradores para desarrollar software. Permite a las organizaciones crear y mejorar productos a un ritmo más rápido de lo que pueden con los enfoques tradicionales de desarrollo de software.\n",
    " \n",
    "Azure DevOps cuenta con 2 modalidades:\n",
    "\n",
    "* *Aure DevOps Service*\n",
    "* *Azure DevOps Server* \n",
    "\n",
    "https://docs.microsoft.com/es-ES/azure/devops/user-guide/about-azure-devops-services-tfs?view=azure-devops"
   ]
  },
  {
   "cell_type": "markdown",
   "metadata": {},
   "source": [
    "* [*Azure Boards*](https://docs.microsoft.com/es-ES/azure/devops/boards/get-started/what-is-azure-boards?view=azure-devops). Azure Boards proporciona a los equipos de desarrollo de software las herramientas interactivas y personalizables que necesitan para administrar sus proyectos de software. Proporciona un amplio conjunto de funcionalidades, incluida la compatibilidad nativa con procesos Agile, Scrum y Kanban, vistas de calendario, paneles configurables e informes integrados. Estas herramientas se escalan a medida que crece su negocio.\n",
    "* [*Azure Repos*](https://docs.microsoft.com/es-ES/azure/devops/repos/?view=azure-devops). *Azure Repos* es un conjunto de herramientas de control de versiones que se puede usar para administrar el código. Independientemente de que el proyecto de software sea grande o pequeño, se recomienda usar el control de versiones lo antes posible\n",
    "* [*Azure Test Plans*](https://docs.microsoft.com/es-ES/azure/devops/test/?view=azure-devops). *Azure Test Plans* proporciona herramientas enriquecidas y eficaces que todos los usuarios del equipo pueden usar para impulsar la calidad y la colaboración en todo el proceso de desarrollo. La solución de administración de pruebas fácil de usar basada en explorador proporciona todas las funcionalidades necesarias para las pruebas manuales planeadas, las pruebas de aceptación del usuario, las pruebas exploratorias y la recopilación de comentarios de las partes interesadas.\n",
    "* [*Azure Pilelines](https://docs.microsoft.com/es-ES/azure/devops/pipelines/get-started/what-is-azure-pipelines?view=azure-devops). Azure Pipelines crea y prueba automáticamente proyectos de código para ponerlos a disposición de otros. Funciona con prácticamente cualquier tipo de proyecto o lenguaje. Azure Pipelines combina la integración continua (CI) y entrega continua (CD) para probar y construir su código y enviarlo a cualquier destino.\n",
    "* [*Azure Artifacts*](https://docs.microsoft.com/es-ES/azure/devops/pipelines/artifacts/artifacts-overview?view=azure-devops&tabs=nuget) Permite que los desarrolladores consuman y publiquen diferentes tipos de paquetes en fuentes de Artifacts y registros públicos, como *NuGet.org* y *npmjs.com*. Puede usar Azure *Artifacts* junto con *Azure Pipelines* para implementar paquetes, publicar artefactos de compilación o integrar archivos entre las fases de canalización para compilar, probar o implementar la aplicación."
   ]
  },
  {
   "cell_type": "markdown",
   "metadata": {},
   "source": [
    "## Precios."
   ]
  },
  {
   "cell_type": "markdown",
   "metadata": {},
   "source": [
    "https://azure.microsoft.com/en-us/pricing/details/devops/azure-devops-services/"
   ]
  },
  {
   "cell_type": "markdown",
   "metadata": {},
   "source": [
    "## Configuración del proyecto."
   ]
  },
  {
   "cell_type": "markdown",
   "metadata": {},
   "source": [
    "https://docs.microsoft.com/es-es/azure/devops/organizations/settings/about-settings"
   ]
  },
  {
   "cell_type": "markdown",
   "metadata": {},
   "source": [
    "## Certificaciones."
   ]
  },
  {
   "cell_type": "markdown",
   "metadata": {},
   "source": [
    "* [AZ-400: Diseño e Implementación de Soluciones Microsoft DevOps](https://docs.microsoft.com/es-ES/learn/certifications/exams/az-400)\n",
    "* [*DevOps Engineer*](https://docs.microsoft.com/es-es/learn/certifications/devops-engineer/)\n"
   ]
  },
  {
   "cell_type": "markdown",
   "metadata": {},
   "source": [
    "## Ruta de aprendizaje."
   ]
  },
  {
   "cell_type": "markdown",
   "metadata": {},
   "source": [
    "https://docs.microsoft.com/es-es/learn/paths/evolve-your-devops-practices/"
   ]
  },
  {
   "cell_type": "markdown",
   "metadata": {},
   "source": [
    "## Videos recomendados."
   ]
  },
  {
   "cell_type": "markdown",
   "metadata": {},
   "source": [
    "* https://www.youtube.com/watch?v=rIaz-l1Kf8w\n",
    "* https://www.youtube.com/playlist?list=PLMhGX7xnINPC1kZFvrYW97kZcKRoCckWz\n",
    "* https://www.youtube.com/watch?v=H4e5gKWJ04g\n",
    "* https://www.youtube.com/watch?v=tzbgXIzzCQc\n"
   ]
  },
  {
   "cell_type": "markdown",
   "metadata": {},
   "source": [
    "<p style=\"text-align: center\"><a rel=\"license\" href=\"http://creativecommons.org/licenses/by/4.0/\"><img alt=\"Licencia Creative Commons\" style=\"border-width:0\" src=\"https://i.creativecommons.org/l/by/4.0/80x15.png\" /></a><br />Esta obra está bajo una <a rel=\"license\" href=\"http://creativecommons.org/licenses/by/4.0/\">Licencia Creative Commons Atribución 4.0 Internacional</a>.</p>\n",
    "<p style=\"text-align: center\">&copy; José Luis Chiquete Valdivieso. 2022.</p>"
   ]
  }
 ],
 "metadata": {
  "kernelspec": {
   "display_name": "Python 3 (ipykernel)",
   "language": "python",
   "name": "python3"
  },
  "language_info": {
   "codemirror_mode": {
    "name": "ipython",
    "version": 3
   },
   "file_extension": ".py",
   "mimetype": "text/x-python",
   "name": "python",
   "nbconvert_exporter": "python",
   "pygments_lexer": "ipython3",
   "version": "3.9.12"
  }
 },
 "nbformat": 4,
 "nbformat_minor": 2
}
