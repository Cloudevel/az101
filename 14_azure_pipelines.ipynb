{
 "cells": [
  {
   "cell_type": "markdown",
   "id": "51261dbb",
   "metadata": {},
   "source": [
    "# *Azure Pipelines*."
   ]
  },
  {
   "cell_type": "markdown",
   "id": "c9b9ba06",
   "metadata": {},
   "source": [
    "Azure Pipelines crea y prueba automáticamente proyectos de código para ponerlos a disposición de otros. Funciona con prácticamente cualquier tipo de proyecto o lenguaje. Azure Pipelines combina la integración continua (CI) y entrega continua (CD) para probar y construir su código y enviarlo a cualquier destino."
   ]
  },
  {
   "cell_type": "markdown",
   "id": "8723ad1c",
   "metadata": {},
   "source": [
    "https://docs.microsoft.com/es-es/azure/devops/pipelines/get-started/what-is-azure-pipelines?view=azure-devops"
   ]
  },
  {
   "cell_type": "markdown",
   "id": "c2756a2f",
   "metadata": {},
   "source": [
    "<p style=\"text-align: center\"><a rel=\"license\" href=\"http://creativecommons.org/licenses/by/4.0/\"><img alt=\"Licencia Creative Commons\" style=\"border-width:0\" src=\"https://i.creativecommons.org/l/by/4.0/80x15.png\" /></a><br />Esta obra está bajo una <a rel=\"license\" href=\"http://creativecommons.org/licenses/by/4.0/\">Licencia Creative Commons Atribución 4.0 Internacional</a>.</p>\n",
    "<p style=\"text-align: center\">&copy; José Luis Chiquete Valdivieso. 2022.</p>"
   ]
  }
 ],
 "metadata": {
  "kernelspec": {
   "display_name": "Python 3 (ipykernel)",
   "language": "python",
   "name": "python3"
  },
  "language_info": {
   "codemirror_mode": {
    "name": "ipython",
    "version": 3
   },
   "file_extension": ".py",
   "mimetype": "text/x-python",
   "name": "python",
   "nbconvert_exporter": "python",
   "pygments_lexer": "ipython3",
   "version": "3.9.12"
  }
 },
 "nbformat": 4,
 "nbformat_minor": 5
}
