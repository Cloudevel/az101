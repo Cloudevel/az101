{
 "cells": [
  {
   "cell_type": "markdown",
   "metadata": {},
   "source": [
    "# Servicios de almacenamiento."
   ]
  },
  {
   "cell_type": "markdown",
   "metadata": {},
   "source": [
    "https://docs.microsoft.com/es-es/azure/?product=storage\n",
    "https://docs.microsoft.com/es-es/azure/storage/"
   ]
  },
  {
   "cell_type": "markdown",
   "metadata": {},
   "source": [
    "* [Discos administrados de *Azure*](https://docs.microsoft.com/es-es/azure/virtual-machines/managed-disks-overview).  son volúmenes de almacenamiento de nivel de bloque que administra *Azure* y que se usan con *Azure Virtual Machines*.\n",
    "* [*Azure Files*](https://docs.microsoft.com/es-es/azure/storage/files/). Recursos compartidos de archivos en la nube de nivel empresarial sencillos, seguros y sin servidor, accesibles mediante los protocolos *SMB* y *NFS*.\n",
    "* [*Blob Storage*](https://docs.microsoft.com/es-es/azure/storage/blobs/). Servico de almacenamienton de objetos cobn esquemas de almacenamiento a [largo plazo](https://docs.microsoft.com/es-es/azure/storage/blobs/access-tiers-overview).\n",
    "* [*Azure Data Lake Storage*](https://docs.microsoft.com/es-es/azure/storage/blobs/data-lake-storage-introduction). Es un conjunto de funcionalidades dedicadas al análisis de macrodatos, que se basa en *Azure Blob Storage*.\n",
    "* [*Azure Data Share*](https://docs.microsoft.com/es-es/azure/data-share/). Servicio seguro y protegido para compartir datos con organizaciones de terceros.\n",
    "* [*Azure Backup*](https://docs.microsoft.com/es-es/azure/backup/). Servicio que proporciona soluciones sencillas, seguras y rentables tanto para realizar copias de seguridad de datos de la nube de *Azure* como para recuperarlos.\n",
    "* [*Azure Net App Files*](https://docs.microsoft.com/es-es/azure/azure-netapp-files/azure-netapp-files-introduction). Servicio de almacenamiento de archivos de alto rendimiento, medido y de clase empresarial. Admite cualquier tipo de carga de trabajo y demuestra una alta disponibilidad de forma predeterminada.\n",
    "* [*Azure HPC Cache*](https://docs.microsoft.com/es-es/azure/hpc-cache/). Servicio que permite agilizar el acceso a archivos para cargas de trabajo de informática de alto rendimiento (HPC) de lectura intensiva.\n",
    "* [Explorador de Storage*](https://docs.microsoft.com/es-es/azure/vs-azure-tools-storage-manage-with-storage-explorer). Es una aplicación independiente que facilita el trabajo con los datos de *Azure Storage* en *Windows*, *macOS* y *GNU/Linux*."
   ]
  },
  {
   "cell_type": "markdown",
   "metadata": {},
   "source": [
    "<p style=\"text-align: center\"><a rel=\"license\" href=\"http://creativecommons.org/licenses/by/4.0/\"><img alt=\"Licencia Creative Commons\" style=\"border-width:0\" src=\"https://i.creativecommons.org/l/by/4.0/80x15.png\" /></a><br />Esta obra está bajo una <a rel=\"license\" href=\"http://creativecommons.org/licenses/by/4.0/\">Licencia Creative Commons Atribución 4.0 Internacional</a>.</p>\n",
    "<p style=\"text-align: center\">&copy; José Luis Chiquete Valdivieso. 2022.</p>"
   ]
  }
 ],
 "metadata": {
  "kernelspec": {
   "display_name": "Python 3 (ipykernel)",
   "language": "python",
   "name": "python3"
  },
  "language_info": {
   "codemirror_mode": {
    "name": "ipython",
    "version": 3
   },
   "file_extension": ".py",
   "mimetype": "text/x-python",
   "name": "python",
   "nbconvert_exporter": "python",
   "pygments_lexer": "ipython3",
   "version": "3.8.8"
  }
 },
 "nbformat": 4,
 "nbformat_minor": 2
}
