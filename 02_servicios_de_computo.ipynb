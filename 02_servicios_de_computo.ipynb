{
 "cells": [
  {
   "cell_type": "markdown",
   "metadata": {},
   "source": [
    "# Servicios de cómputo."
   ]
  },
  {
   "cell_type": "markdown",
   "metadata": {},
   "source": [
    "https://docs.microsoft.com/es-es/azure/?product=compute\n",
    "\n",
    "* [*Azure Dedicated Host*](https://docs.microsoft.com/es-es/azure/virtual-machines/dedicated-hosts). Servicio que proporciona servidores físicos (capaces de hospedar una o varias máquinas virtuales) dedicados a una suscripción a Azure.\n",
    "* [Máquinas virtuales](https://docs.microsoft.com/es-es/azure/virtual-machines/). Servicio de creación y administración máquinas virtuales en *Azure*, tanto basadas en [*GNU/Linux*](https://docs.microsoft.com/es-es/azure/virtual-machines/linux/overview) como en [*Windows*](https://docs.microsoft.com/es-es/azure/virtual-machines/windows/overview) e incluso con [*SQL Server*](https://docs.microsoft.com/es-ES/azure/azure-sql/virtual-machines/windows/sql-server-on-azure-vm-iaas-what-is-overview).\n",
    "* [Máquinas virtuales de *Azure Spot*](https://docs.microsoft.com/es-es/azure/virtual-machines/spot-vms). Servicio de aprovisionamiento de máquinas virtuales interrumpibles.\n",
    "* [Conjuntos escalados de máquinas virtuales](https://docs.microsoft.com/es-es/azure/virtual-machine-scale-sets/overview). Los conjuntos de escalado de máquinas virtuales de *Azure* permiten crear y administrar grupos de máquinas virtuales con equilibrio de carga y escalado automático.\n",
    "* [*Azure Virtual Desktop*](https://docs.microsoft.com/es-es/azure/virtual-desktop/). Servicio de escritorios virtuales y aplicaciones remotas con el máximo control a cualquier dispositivo desde una plataforma flexible de infraestructura de escritorio virtual (VDI) en la nube.\n",
    "* [*App Service*](https://docs.microsoft.com/es-es/azure/app-service/). Srrvicio que permite crear y hospedar aplicaciones *web*, *back-ends* móviles y *API RESTful* en el lenguaje de programación que prefiera sin tener que administrar la infraestructura. Ofrece escalado automático y alta disponibilidad, es compatible con *Windows* y *GNU/Linux* y permite implementaciones automatizadas desde *GitHub*, *Azure DevOps* o cualquier repositorio *Git*.\n",
    "* [*Container Instances*](https://docs.microsoft.com/es-es/azure/container-instances/). Servicio que permite ejecutar contenedores de *Docker* bajo demanda en un entorno de *Azure* administrado y sin servidor.\n",
    "* [*Azure Functions*](https://docs.microsoft.com/es-es/azure/azure-functions/). Servicio en la nube disponible bajo demanda que proporciona toda la infraestructura y los recursos, que se actualizan continuamente, necesarios para ejecutar las aplicaciones. Ejecuta fragmentos de código basado en funciones lambda.  \n",
    "* [*Azure Spring Cloud*](https://docs.microsoft.com/es-es/azure/spring-cloud/). Servicio administrado para hospedar aplicaciones de *Spring*. \n",
    "* [*Azure Kubernetes Service (AKS)*](https://docs.microsoft.com/es-es/azure/aks/). Servicio que permite implementar rápidamente un clúster de *Kubernetes* listo para producción en *Azure*. \n",
    "* [*Service Fabric*](https://docs.microsoft.com/es-es/azure/service-fabric/). Azure Service Fabric es una plataforma de sistemas distribuidos que facilita el empaquetado, la implementación y la administración de microservicios y contenedores escalables y confiables.\n"
   ]
  },
  {
   "cell_type": "markdown",
   "metadata": {},
   "source": [
    "<p style=\"text-align: center\"><a rel=\"license\" href=\"http://creativecommons.org/licenses/by/4.0/\"><img alt=\"Licencia Creative Commons\" style=\"border-width:0\" src=\"https://i.creativecommons.org/l/by/4.0/80x15.png\" /></a><br />Esta obra está bajo una <a rel=\"license\" href=\"http://creativecommons.org/licenses/by/4.0/\">Licencia Creative Commons Atribución 4.0 Internacional</a>.</p>\n",
    "<p style=\"text-align: center\">&copy; José Luis Chiquete Valdivieso. 2022.</p>"
   ]
  }
 ],
 "metadata": {
  "kernelspec": {
   "display_name": "Python 3 (ipykernel)",
   "language": "python",
   "name": "python3"
  },
  "language_info": {
   "codemirror_mode": {
    "name": "ipython",
    "version": 3
   },
   "file_extension": ".py",
   "mimetype": "text/x-python",
   "name": "python",
   "nbconvert_exporter": "python",
   "pygments_lexer": "ipython3",
   "version": "3.8.8"
  }
 },
 "nbformat": 4,
 "nbformat_minor": 2
}
