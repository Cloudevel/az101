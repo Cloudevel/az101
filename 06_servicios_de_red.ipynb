{
 "cells": [
  {
   "cell_type": "markdown",
   "metadata": {},
   "source": [
    "# Servicios de red."
   ]
  },
  {
   "cell_type": "markdown",
   "metadata": {},
   "source": [
    "https://docs.microsoft.com/es-es/azure/?product=networking"
   ]
  },
  {
   "cell_type": "markdown",
   "metadata": {},
   "source": [
    "## Azure Virtual Network."
   ]
  },
  {
   "cell_type": "markdown",
   "metadata": {},
   "source": [
    "*Azure Virtual Network* (*VNet*) es el medio que permite desplegar y gestionar redes que perminten comunicarse de forma segura entre usuarios, con Internet y con las redes locales.\n",
    "\n",
    "https://docs.microsoft.com/es-es/azure/virtual-network/virtual-networks-overview\n",
    "https://docs.microsoft.com/es-es/azure/virtual-network/concepts-and-best-practices"
   ]
  },
  {
   "cell_type": "markdown",
   "metadata": {},
   "source": [
    "## Servicios de red."
   ]
  },
  {
   "cell_type": "markdown",
   "metadata": {},
   "source": [
    "* [*Azure DNS*](https://docs.microsoft.com/es-es/azure/dns/)\n",
    "* [*Azure Route Server*](https://docs.microsoft.com/es-es/azure/route-server/overview)\n",
    "* [*Content Delivery Network*](https://docs.microsoft.com/es-es/azure/cdn/)\n",
    "* [*Azure Front Door*](https://docs.microsoft.com/es-es/azure/frontdoor/front-door-overview)\n",
    "* [*Azure Firewall*](https://docs.microsoft.com/es-es/azure/firewall/)\n",
    "* [*Azure DDoS Protection*](https://docs.microsoft.com/es-es/azure/ddos-protection/ddos-protection-overview)\n",
    "* [*Azure Bastion*](https://docs.microsoft.com/es-es/azure/bastion/)\n",
    "* [*Load Balancer*](https://docs.microsoft.com/es-es/azure/load-balancer/load-balancer-overview)\n",
    "* [*Traffic Manager*](https://docs.microsoft.com/es-es/azure/traffic-manager/traffic-manager-overview)\n",
    "* [*Web Application Firewall* (*WAP*)](https://docs.microsoft.com/es-es/azure/web-application-firewall/)\n",
    "* [*Application Gateway*](https://docs.microsoft.com/es-es/azure/application-gateway/)\n",
    "* [*VPN Gateway*](https://docs.microsoft.com/es-es/azure/vpn-gateway/vpn-gateway-about-vpngateways)\n",
    "* [*Azure Express Route*](https://docs.microsoft.com/es-es/azure/expressroute/expressroute-introduction)\n",
    "* [*Azure Private Link*](https://docs.microsoft.com/es-es/azure/private-link/private-link-overview)\n",
    "*[*Azure Network Watcher*](https://docs.microsoft.com/es-es/azure/network-watcher/network-watcher-monitoring-overview)"
   ]
  },
  {
   "cell_type": "markdown",
   "metadata": {},
   "source": [
    "<p style=\"text-align: center\"><a rel=\"license\" href=\"http://creativecommons.org/licenses/by/4.0/\"><img alt=\"Licencia Creative Commons\" style=\"border-width:0\" src=\"https://i.creativecommons.org/l/by/4.0/80x15.png\" /></a><br />Esta obra está bajo una <a rel=\"license\" href=\"http://creativecommons.org/licenses/by/4.0/\">Licencia Creative Commons Atribución 4.0 Internacional</a>.</p>\n",
    "<p style=\"text-align: center\">&copy; José Luis Chiquete Valdivieso. 2022.</p>"
   ]
  }
 ],
 "metadata": {
  "kernelspec": {
   "display_name": "Python 3 (ipykernel)",
   "language": "python",
   "name": "python3"
  },
  "language_info": {
   "codemirror_mode": {
    "name": "ipython",
    "version": 3
   },
   "file_extension": ".py",
   "mimetype": "text/x-python",
   "name": "python",
   "nbconvert_exporter": "python",
   "pygments_lexer": "ipython3",
   "version": "3.8.8"
  }
 },
 "nbformat": 4,
 "nbformat_minor": 2
}
